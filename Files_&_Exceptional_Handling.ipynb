{
  "nbformat": 4,
  "nbformat_minor": 0,
  "metadata": {
    "colab": {
      "provenance": []
    },
    "kernelspec": {
      "name": "python3",
      "display_name": "Python 3"
    },
    "language_info": {
      "name": "python"
    }
  },
  "cells": [
    {
      "cell_type": "markdown",
      "source": [
        "##Theory Questions"
      ],
      "metadata": {
        "id": "4pRjJG8k0RU2"
      }
    },
    {
      "cell_type": "markdown",
      "source": [
        "###1. What is the difference between interpreted and compiled languages?\n",
        "Interpreted languages execute code line by line at runtime, using an interpreter. Compiled languages translate the entire code into machine language before execution using a compiler. Python is interpreted, meaning errors are caught at runtime, while C++ is compiled, catching errors at compile time. Interpreted languages are often slower but more flexible for rapid development.\n",
        "\n",
        "###2. What is exception handling in Python?\n",
        "Exception handling is a mechanism that allows a program to manage runtime errors gracefully. It uses keywords like `try`, `except`, `else`, and `finally` to detect and handle errors. This prevents the program from crashing unexpectedly and enables developers to write robust, fault-tolerant applications.\n",
        "\n",
        "###3. What is the purpose of the `finally` block in exception handling?\n",
        "The `finally` block is used to define code that must run regardless of whether an exception was raised or not. It is typically used for cleanup actions like closing files or releasing resources. This ensures that important final steps are executed even if an error occurs.\n",
        "\n",
        "###4. What is logging in Python?\n",
        "Logging is a way to track events and messages that happen during the execution of a program. Python’s built-in `logging` module records information like warnings, errors, and debug messages. Unlike `print()`, logging can write to files, include timestamps, and be configured to different levels of importance.\n",
        "\n",
        "###5. What is the significance of the `__del__` method in Python?\n",
        "The `__del__` method is a special method called a destructor, which is automatically invoked when an object is about to be destroyed. It's used to perform final cleanup tasks like closing connections or releasing memory. However, relying too much on `__del__` is discouraged due to unpredictable garbage collection timing.\n",
        "\n",
        "###6. What is the difference between `import` and `from ... import` in Python?\n",
        "`import` brings in the entire module, requiring you to use dot notation (e.g., `math.sqrt`). `from ... import` allows direct access to specific functions or variables (e.g., `from math import sqrt`). The latter is more concise but can lead to name conflicts if not used carefully.\n",
        "\n",
        "###7. How can you handle multiple exceptions in Python?\n",
        "You can handle multiple exceptions by specifying multiple `except` blocks for different error types or using a tuple of exceptions in a single `except`. This allows your program to respond appropriately to different failure scenarios and maintain flow without crashing. It improves reliability and user experience.\n",
        "\n",
        "###8. What is the purpose of the `with` statement when handling files in Python?\n",
        "The `with` statement is used for managing resources like file streams. It automatically handles setup and cleanup, such as closing the file even if an exception occurs. This eliminates the need to explicitly close files and reduces the risk of resource leaks or data corruption.\n",
        "\n",
        "###9. What is the difference between multithreading and multiprocessing?\n",
        "Multithreading runs multiple threads within a single process, sharing memory, ideal for I/O-bound tasks. Multiprocessing runs separate processes with separate memory, better for CPU-bound tasks. Python’s Global Interpreter Lock (GIL) limits true parallelism in threads, making multiprocessing more suitable for heavy computations.\n",
        "\n",
        "###10. What are the advantages of using logging in a program?\n",
        "Logging provides a systematic way to record runtime events, errors, and application flow. It helps in debugging, monitoring, and auditing applications. Unlike `print`, it supports levels, formatting, and output to files or external systems, making it essential for production-grade software.\n",
        "\n",
        "###11. What is memory management in Python?\n",
        "Memory management in Python is handled automatically using reference counting and garbage collection. When an object is no longer referenced, Python reclaims the memory. This simplifies development by reducing memory leaks and ensures efficient use of system resources.\n",
        "\n",
        "###12. What are the basic steps involved in exception handling in Python?\n",
        "Exception handling follows these steps: wrap risky code in a `try` block, catch specific errors with `except`, execute additional code if no error occurs with `else`, and always run final cleanup using `finally`. This structured flow helps manage errors without crashing the program.\n",
        "\n",
        "###13. Why is memory management important in Python?\n",
        "Efficient memory management ensures your application runs smoothly, doesn’t consume unnecessary resources, and avoids memory leaks. It is critical in long-running programs or those processing large data. Python handles most of it, but understanding the process helps you write better code.\n",
        "\n",
        "###14. What is the role of `try` and `except` in exception handling?\n",
        "The `try` block contains code that may raise an exception, while the `except` block handles the error if it occurs. This prevents crashes and allows the program to respond with user-friendly messages or fallback operations. It's essential for robust, error-tolerant software.\n",
        "\n",
        "###15. How does Python’s garbage collection system work?\n",
        "Python uses a combination of reference counting and cyclic garbage collection to manage memory. When an object’s reference count drops to zero, it is deleted. The garbage collector also periodically looks for reference cycles that aren’t reachable and removes them to free memory.\n",
        "\n",
        "###16. What is the purpose of the `else` block in exception handling?\n",
        "The `else` block runs code only if the `try` block does not raise an exception. It's used when you want to separate successful operations from error handling. This makes your code cleaner and more readable by distinguishing between normal and exceptional flows.\n",
        "\n",
        "###17. What are the common logging levels in Python?\n",
        "Python’s logging levels include `DEBUG`, `INFO`, `WARNING`, `ERROR`, and `CRITICAL`. Each level indicates the severity of the message. `DEBUG` is the lowest, used for development, while `CRITICAL` signals serious failures. Using levels helps filter and manage logs effectively in large applications.\n",
        "\n",
        "###18. What is the difference between `os.fork()` and multiprocessing in Python?\n",
        "`os.fork()` creates a child process on Unix-based systems by duplicating the current process, while the `multiprocessing` module works cross-platform and provides an API for spawning independent processes. `multiprocessing` is preferred for writing portable and maintainable multi-process code in Python.\n",
        "\n",
        "###19. What is the importance of closing a file in Python?\n",
        "Closing a file ensures that all data is properly written and that system resources are released. If you don’t close a file, you may experience memory leaks, file corruption, or locked files. Using `with open(...)` is the safest way to automatically close files.\n",
        "\n",
        "###20. What is the difference between file.read() and file.readline() in Python?\n",
        "file.read() reads the entire file content into a string, useful for small files. file.readline() reads one line at a time, which is more memory-efficient for large files. Choosing the right method depends on your application’s size and performance needs.\n",
        "\n",
        "###21. What is the logging module in Python used for?\n",
        "The logging module is used to log messages that track the execution of a program. It provides flexibility to log at different severity levels and to output logs to various destinations like files or streams. It helps developers diagnose problems and monitor application behavior.\n",
        "\n",
        "###22. What is the os module in Python used for in file handling?\n",
        "The os module allows Python programs to interact with the operating system. In file handling, it provides functions to navigate directories, rename, delete files, and check file properties. It is essential for building file-based automation and system-level scripts.\n",
        "\n",
        "###23. What are the challenges associated with memory management in Python?\n",
        "Challenges include dealing with circular references, managing memory in large-scale applications, and handling memory leaks caused by global variables or closures. While Python automates most memory management, developers still need to monitor resource usage and optimize where necessary.\n",
        "\n",
        "###24. How do you raise an exception manually in Python?\n",
        "You can raise an exception using the raise keyword followed by an exception class. For example: raise ValueError(\"Invalid input\"). This is useful for enforcing custom rules or signaling unexpected conditions in your program logic that require attention.\n",
        "\n",
        "###25. Why is it important to use multithreading in certain applications?\n",
        "Multithreading allows concurrent execution, improving the performance of I/O-bound applications like web servers or file readers. It enables responsive user interfaces and efficient background processing. However, Python’s GIL limits CPU-bound performance, so it’s important to choose threading wisely."
      ],
      "metadata": {
        "id": "NFBp1ZKhYXsk"
      }
    },
    {
      "cell_type": "markdown",
      "source": [
        "##Practical Questions"
      ],
      "metadata": {
        "id": "NYBbxP-i0NrA"
      }
    },
    {
      "cell_type": "code",
      "execution_count": 1,
      "metadata": {
        "id": "MmrujqdnYVGr"
      },
      "outputs": [],
      "source": [
        "#1. How can you open a file for writing in Python and write a string to it?\n",
        "\n",
        "with open('example.txt', 'w') as file:\n",
        "    file.write(\"Hello, this is a sample text.\")"
      ]
    },
    {
      "cell_type": "code",
      "source": [
        "#2. Write a Python program to read the contents of a file and print each line.\n",
        "\n",
        "with open('example.txt', 'r') as file:\n",
        "    for line in file:\n",
        "        print(line.strip())\n"
      ],
      "metadata": {
        "colab": {
          "base_uri": "https://localhost:8080/"
        },
        "id": "bhx_iH9Gvpk-",
        "outputId": "9d9d8d47-5a80-414c-fbec-43fef3e39cfb"
      },
      "execution_count": 2,
      "outputs": [
        {
          "output_type": "stream",
          "name": "stdout",
          "text": [
            "Hello, this is a sample text.\n"
          ]
        }
      ]
    },
    {
      "cell_type": "code",
      "source": [
        "#3. How would you handle a case where the file doesn't exist while trying to open it for reading?\n",
        "\n",
        "try:\n",
        "    with open('nonexistent.txt', 'r') as file:\n",
        "        print(file.read())\n",
        "except FileNotFoundError:\n",
        "    print(\"The file does not exist.\")\n"
      ],
      "metadata": {
        "colab": {
          "base_uri": "https://localhost:8080/"
        },
        "id": "VfvcLDZQvph8",
        "outputId": "bcf61d42-2700-47df-ca61-04247f94ba85"
      },
      "execution_count": 3,
      "outputs": [
        {
          "output_type": "stream",
          "name": "stdout",
          "text": [
            "The file does not exist.\n"
          ]
        }
      ]
    },
    {
      "cell_type": "code",
      "source": [
        "#4. Write a Python script that reads from one file and writes its content to another file.\n",
        "\n",
        "try:\n",
        "    with open('source.txt', 'r') as src:\n",
        "        content = src.read()\n",
        "        if content:\n",
        "            with open('destination.txt', 'w') as dest:\n",
        "                dest.write(content)\n",
        "            print(\"File copied successfully.\")\n",
        "        else:\n",
        "            print(\"Source file is empty.\")\n",
        "except FileNotFoundError:\n",
        "    print(\"Source file not found.\")\n",
        "\n",
        "\"\"\"This code opens source.txt and reads its content.\n",
        "If the file doesn't exist, a FileNotFoundError is caught.\n",
        "If the file exists but is empty, a message is shown. If content is present, it's written to destination.txt.\n",
        "This ensures graceful handling of both empty and missing file scenarios.\"\"\"\n"
      ],
      "metadata": {
        "colab": {
          "base_uri": "https://localhost:8080/"
        },
        "id": "w4Fzt4SovpfI",
        "outputId": "7903c09f-bee7-4ea9-8b0b-5e31e12983c3"
      },
      "execution_count": 5,
      "outputs": [
        {
          "output_type": "stream",
          "name": "stdout",
          "text": [
            "Source file not found.\n"
          ]
        }
      ]
    },
    {
      "cell_type": "code",
      "source": [
        "#5. How would you catch and handle division by zero error in Python?\n",
        "\n",
        "try:\n",
        "    result = 10 / 0\n",
        "except ZeroDivisionError:\n",
        "    print(\"Cannot divide by zero!\")\n"
      ],
      "metadata": {
        "colab": {
          "base_uri": "https://localhost:8080/"
        },
        "id": "2zX-8-Nkvpb_",
        "outputId": "781ad73e-24b2-4d84-968a-35ebcf6c6a25"
      },
      "execution_count": 6,
      "outputs": [
        {
          "output_type": "stream",
          "name": "stdout",
          "text": [
            "Cannot divide by zero!\n"
          ]
        }
      ]
    },
    {
      "cell_type": "code",
      "source": [
        "#6. Write a Python program that logs an error message to a log file when a division by zero exception occurs.\n",
        "\n",
        "import logging\n",
        "\n",
        "logging.basicConfig(filename='app.log', level=logging.ERROR)\n",
        "try:\n",
        "    result = 10 / 0\n",
        "except ZeroDivisionError:\n",
        "    logging.error(\"Division by zero error occurred.\")\n"
      ],
      "metadata": {
        "colab": {
          "base_uri": "https://localhost:8080/"
        },
        "id": "EHC7oGbgvpZF",
        "outputId": "debd1fb5-292c-49c3-eaa2-831604ec636d"
      },
      "execution_count": 7,
      "outputs": [
        {
          "output_type": "stream",
          "name": "stderr",
          "text": [
            "ERROR:root:Division by zero error occurred.\n"
          ]
        }
      ]
    },
    {
      "cell_type": "code",
      "source": [
        "#7. How do you log information at different levels (INFO, ERROR, WARNING) in Python using the logging module?\n",
        "\n",
        "import logging\n",
        "\n",
        "logging.basicConfig(level=logging.DEBUG)\n",
        "logging.info(\"This is an info message.\")\n",
        "logging.warning(\"This is a warning.\")\n",
        "logging.error(\"This is an error.\")\n"
      ],
      "metadata": {
        "colab": {
          "base_uri": "https://localhost:8080/"
        },
        "id": "kRKnm3pYvpV9",
        "outputId": "5e4c6dbb-2ad9-4814-fae1-3fa9b35505e6"
      },
      "execution_count": 8,
      "outputs": [
        {
          "output_type": "stream",
          "name": "stderr",
          "text": [
            "WARNING:root:This is a warning.\n",
            "ERROR:root:This is an error.\n"
          ]
        }
      ]
    },
    {
      "cell_type": "code",
      "source": [
        "#8. Write a program to handle a file opening error using exception handling.\n",
        "\n",
        "try:\n",
        "    file = open('missing.txt', 'r')\n",
        "except FileNotFoundError:\n",
        "    print(\"File not found error caught.\")\n"
      ],
      "metadata": {
        "colab": {
          "base_uri": "https://localhost:8080/"
        },
        "id": "h4t3tki2vpTJ",
        "outputId": "b3460942-cfd9-4fae-c839-9cd02b3e07e6"
      },
      "execution_count": 9,
      "outputs": [
        {
          "output_type": "stream",
          "name": "stdout",
          "text": [
            "File not found error caught.\n"
          ]
        }
      ]
    },
    {
      "cell_type": "code",
      "source": [
        "#9. How can you read a file line by line and store its content in a list in Python?\n",
        "\n",
        "with open('example.txt', 'r') as file:\n",
        "    lines = file.readlines()\n",
        "print(lines)\n"
      ],
      "metadata": {
        "colab": {
          "base_uri": "https://localhost:8080/"
        },
        "id": "XT7Ptjl6vpQP",
        "outputId": "548955a8-69f8-4579-f973-1260a9942f07"
      },
      "execution_count": 10,
      "outputs": [
        {
          "output_type": "stream",
          "name": "stdout",
          "text": [
            "['Hello, this is a sample text.']\n"
          ]
        }
      ]
    },
    {
      "cell_type": "code",
      "source": [
        "#10. How can you append data to an existing file in Python?\n",
        "\n",
        "with open('example.txt', 'a') as file:\n",
        "    file.write(\"\\nAppending new line.\")\n"
      ],
      "metadata": {
        "id": "H-FEDkNwvpNU"
      },
      "execution_count": 12,
      "outputs": []
    },
    {
      "cell_type": "code",
      "source": [
        "#11. Write a Python program that uses a try-except block to handle an error when attempting to access a dictionary key that doesn't exist.\n",
        "\n",
        "my_dict = {\"name\": \"John\"}\n",
        "try:\n",
        "    print(my_dict[\"age\"])\n",
        "except KeyError:\n",
        "    print(\"Key not found in dictionary.\")\n"
      ],
      "metadata": {
        "colab": {
          "base_uri": "https://localhost:8080/"
        },
        "id": "N3ReEAnXvpKg",
        "outputId": "c93c9361-70ca-4c7b-cb9f-ccbfaf56a85e"
      },
      "execution_count": 13,
      "outputs": [
        {
          "output_type": "stream",
          "name": "stdout",
          "text": [
            "Key not found in dictionary.\n"
          ]
        }
      ]
    },
    {
      "cell_type": "code",
      "source": [
        "#12. Write a program that demonstrates using multiple except blocks to handle different types of exceptions.\n",
        "\n",
        "try:\n",
        "    x = 1 / 0\n",
        "    lst = [1]\n",
        "    print(lst[5])\n",
        "except ZeroDivisionError:\n",
        "    print(\"Zero Division Error\")\n",
        "except IndexError:\n",
        "    print(\"Index Error\")\n"
      ],
      "metadata": {
        "colab": {
          "base_uri": "https://localhost:8080/"
        },
        "id": "KOUQQBb0vpH0",
        "outputId": "36168b2f-172d-48b2-d772-02c717aea296"
      },
      "execution_count": 14,
      "outputs": [
        {
          "output_type": "stream",
          "name": "stdout",
          "text": [
            "Zero Division Error\n"
          ]
        }
      ]
    },
    {
      "cell_type": "code",
      "source": [
        "#13. How would you check if a file exists before attempting to read it in Python?\n",
        "\n",
        "import os\n",
        "\n",
        "if os.path.exists(\"example.txt\"):\n",
        "    with open(\"example.txt\", 'r') as file:\n",
        "        print(file.read())\n",
        "else:\n",
        "    print(\"File does not exist.\")\n"
      ],
      "metadata": {
        "colab": {
          "base_uri": "https://localhost:8080/"
        },
        "id": "y5VEjCdfvpFB",
        "outputId": "6461ca1b-3b6c-46c9-b9ee-7128e863b87f"
      },
      "execution_count": 15,
      "outputs": [
        {
          "output_type": "stream",
          "name": "stdout",
          "text": [
            "Hello, this is a sample text.\n",
            "Appending new line.\n",
            "Appending new line.\n"
          ]
        }
      ]
    },
    {
      "cell_type": "code",
      "source": [
        "#14. Write a program that uses the logging module to log both informational and error messages.\n",
        "\n",
        "import logging\n",
        "\n",
        "logging.basicConfig(filename='logfile.log', level=logging.DEBUG)\n",
        "logging.info(\"Program started.\")\n",
        "try:\n",
        "    1 / 0\n",
        "except ZeroDivisionError:\n",
        "    logging.error(\"Attempted to divide by zero.\")\n"
      ],
      "metadata": {
        "colab": {
          "base_uri": "https://localhost:8080/"
        },
        "id": "ziKfoesFvpCG",
        "outputId": "02148259-d5c4-4a66-f613-183bc5e99c1f"
      },
      "execution_count": 16,
      "outputs": [
        {
          "output_type": "stream",
          "name": "stderr",
          "text": [
            "ERROR:root:Attempted to divide by zero.\n"
          ]
        }
      ]
    },
    {
      "cell_type": "code",
      "source": [
        "#15. Write a Python program that prints the content of a file and handles the case when the file is empty.\n",
        "\n",
        "with open('example.txt', 'r') as file:\n",
        "    content = file.read()\n",
        "    if content:\n",
        "        print(content)\n",
        "    else:\n",
        "        print(\"File is empty.\")\n"
      ],
      "metadata": {
        "colab": {
          "base_uri": "https://localhost:8080/"
        },
        "id": "s6ZBo0vDvo_a",
        "outputId": "280d2238-636e-409a-98e5-f74dd18959e5"
      },
      "execution_count": 17,
      "outputs": [
        {
          "output_type": "stream",
          "name": "stdout",
          "text": [
            "Hello, this is a sample text.\n",
            "Appending new line.\n",
            "Appending new line.\n"
          ]
        }
      ]
    },
    {
      "cell_type": "code",
      "source": [
        "#16. Demonstrate how to use memory profiling to check the memory usage of a small program.\n",
        "\n",
        "import tracemalloc\n",
        "\n",
        "def create_list():\n",
        "    return [i for i in range(100000)]\n",
        "\n",
        "tracemalloc.start()\n",
        "\n",
        "data = create_list()\n",
        "\n",
        "current, peak = tracemalloc.get_traced_memory()\n",
        "print(f\"Current memory usage: {current / 1024:.2f} KB\")\n",
        "print(f\"Peak memory usage: {peak / 1024:.2f} KB\")\n",
        "\n",
        "tracemalloc.stop()\n",
        "\n"
      ],
      "metadata": {
        "colab": {
          "base_uri": "https://localhost:8080/"
        },
        "id": "OSWY3W2vvo8s",
        "outputId": "0f2d5929-8342-4dd3-c967-cbd01fd9c059"
      },
      "execution_count": 21,
      "outputs": [
        {
          "output_type": "stream",
          "name": "stdout",
          "text": [
            "Current memory usage: 3901.73 KB\n",
            "Peak memory usage: 3912.45 KB\n"
          ]
        }
      ]
    },
    {
      "cell_type": "code",
      "source": [
        "#17. Write a Python program to create and write a list of numbers to a file, one number per line.\n",
        "\n",
        "numbers = [1, 2, 3, 4, 5]\n",
        "with open('numbers.txt', 'w') as file:\n",
        "    for num in numbers:\n",
        "        file.write(f\"{num}\\n\")\n"
      ],
      "metadata": {
        "id": "pfgNLEZVyFeN"
      },
      "execution_count": 24,
      "outputs": []
    },
    {
      "cell_type": "code",
      "source": [
        "#18. How would you implement a basic logging setup that logs to a file with rotation after 1MB?\n",
        "\n",
        "import logging\n",
        "from logging.handlers import RotatingFileHandler\n",
        "\n",
        "handler = RotatingFileHandler(\"app.log\", maxBytes=1048576, backupCount=3)\n",
        "logging.basicConfig(handlers=[handler], level=logging.INFO)\n",
        "logging.info(\"Logging with rotation setup.\")\n"
      ],
      "metadata": {
        "id": "fECA1DHBy2Hl"
      },
      "execution_count": 27,
      "outputs": []
    },
    {
      "cell_type": "code",
      "source": [
        "#19. Write a program that handles both IndexError and KeyError using a try-except block.\n",
        "\n",
        "try:\n",
        "    lst = [1, 2]\n",
        "    print(lst[3])\n",
        "    d = {\"name\": \"Alex\"}\n",
        "    print(d[\"age\"])\n",
        "except IndexError:\n",
        "    print(\"Caught IndexError\")\n",
        "except KeyError:\n",
        "    print(\"Caught KeyError\")\n"
      ],
      "metadata": {
        "colab": {
          "base_uri": "https://localhost:8080/"
        },
        "id": "zjXp12C_y2FI",
        "outputId": "60dba897-2562-4924-cdca-06f0413ed077"
      },
      "execution_count": 28,
      "outputs": [
        {
          "output_type": "stream",
          "name": "stdout",
          "text": [
            "Caught IndexError\n"
          ]
        }
      ]
    },
    {
      "cell_type": "code",
      "source": [
        "#20. How would you open a file and read its contents using a context manager in Python?\n",
        "\n",
        "with open('example.txt', 'r') as file:\n",
        "    print(file.read())\n"
      ],
      "metadata": {
        "colab": {
          "base_uri": "https://localhost:8080/"
        },
        "id": "GvYJPf2HyFbu",
        "outputId": "bfc6ade0-6685-412e-fff7-0f5884bf528b"
      },
      "execution_count": 25,
      "outputs": [
        {
          "output_type": "stream",
          "name": "stdout",
          "text": [
            "Hello, this is a sample text.\n",
            "Appending new line.\n",
            "Appending new line.\n"
          ]
        }
      ]
    },
    {
      "cell_type": "code",
      "source": [
        "#21. Write a Python program that reads a file and prints the number of occurrences of a specific word.\n",
        "\n",
        "word_to_count = \"python\"\n",
        "with open('example.txt', 'r') as file:\n",
        "    content = file.read()\n",
        "    count = content.lower().count(word_to_count)\n",
        "    print(f\"Occurrences of '{word_to_count}': {count}\")\n"
      ],
      "metadata": {
        "colab": {
          "base_uri": "https://localhost:8080/"
        },
        "id": "7mJtDv8Gvo5x",
        "outputId": "42c4469f-eff5-4a6b-bbeb-0d3dd7a4ce0e"
      },
      "execution_count": 26,
      "outputs": [
        {
          "output_type": "stream",
          "name": "stdout",
          "text": [
            "Occurrences of 'python': 0\n"
          ]
        }
      ]
    },
    {
      "cell_type": "code",
      "source": [
        "#22. How can you check if a file is empty before attempting to read its contents?\n",
        "\n",
        "import os\n",
        "\n",
        "if os.path.getsize(\"example.txt\") == 0:\n",
        "    print(\"File is empty\")\n",
        "else:\n",
        "    with open(\"example.txt\", 'r') as file:\n",
        "        print(file.read())\n"
      ],
      "metadata": {
        "colab": {
          "base_uri": "https://localhost:8080/"
        },
        "id": "vTjWUgHfyFiU",
        "outputId": "5dfcb522-f388-4c13-9ea4-f63d0f8011b2"
      },
      "execution_count": 20,
      "outputs": [
        {
          "output_type": "stream",
          "name": "stdout",
          "text": [
            "Hello, this is a sample text.\n",
            "Appending new line.\n",
            "Appending new line.\n"
          ]
        }
      ]
    },
    {
      "cell_type": "code",
      "source": [
        "#23. Write a Python program that writes to a log file when an error occurs during file handling.\n",
        "\n",
        "import logging\n",
        "\n",
        "logging.basicConfig(filename='error_log.log', level=logging.ERROR)\n",
        "try:\n",
        "    with open('missing.txt', 'r') as file:\n",
        "        print(file.read())\n",
        "except Exception as e:\n",
        "    logging.error(f\"File handling error: {e}\")\n"
      ],
      "metadata": {
        "colab": {
          "base_uri": "https://localhost:8080/"
        },
        "id": "bda9nLvmvozu",
        "outputId": "165d8fd2-aab4-4a86-c167-7f8314cc5746"
      },
      "execution_count": 22,
      "outputs": [
        {
          "output_type": "stream",
          "name": "stderr",
          "text": [
            "ERROR:root:File handling error: [Errno 2] No such file or directory: 'missing.txt'\n"
          ]
        }
      ]
    }
  ]
}